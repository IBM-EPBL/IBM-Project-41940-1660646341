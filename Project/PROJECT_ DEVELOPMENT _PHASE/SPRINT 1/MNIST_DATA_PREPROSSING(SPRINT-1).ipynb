{
 "cells": [
  {
   "cell_type": "code",
   "execution_count": null,
   "metadata": {},
   "outputs": [],
   "source": [
    "Sprint 1 Pre-processing\n",
    "from keras.datasets import mnist\n",
    "import matplotlib.pyplot as plt  \n",
    "from keras.utils import np_utils\n",
    "(X_train,y_train),(X_test,y_test) =mnist.load_data()\n",
    "print(X_train.shape)\n",
    "print(X_test.shape)\n",
    "Downloading data from https://storage.googleapis.com/tensorflow/tf-keras-datasets/mnist.npz\n",
    "11490434/11490434 [==============================] - 0s 0us/step\n",
    "(60000, 28, 28)\n",
    "(10000, 28, 28)\n",
    "print(\"The label value is \",y_test[21])\n",
    "plt.imshow(X_test[21])\n",
    "The label value is  6\n",
    "\n",
    "print(\"The label value is \",y_train[24])\n",
    "plt.imshow(X_train[24])\n",
    "The label value is  1\n",
    "\n",
    "X_train = X_train.reshape(60000, 28, 28, 1).astype('float32')\n",
    "X_test = X_test.reshape(10000, 28, 28, 1).astype('float32')\n",
    "number_of_classes= 10\n",
    "y_train = np_utils.to_categorical(y_train,number_of_classes)\n",
    "y_test = np_utils.to_categorical(y_test,number_of_classes)\n",
    "print(\"After encoding the value 6 of y_test[21] become\", y_test[21])\n",
    "After encoding the value 6 of y_test[21] become [0. 0. 0. 0. 0. 0. 1. 0. 0. 0.]"
   ]
  }
 ],
 "metadata": {
  "language_info": {
   "name": "python"
  },
  "orig_nbformat": 4
 },
 "nbformat": 4,
 "nbformat_minor": 2
}
