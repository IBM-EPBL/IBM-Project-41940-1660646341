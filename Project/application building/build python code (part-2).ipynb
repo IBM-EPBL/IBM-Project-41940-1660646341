{
 "cells": [
  {
   "cell_type": "code",
   "execution_count": null,
   "metadata": {},
   "outputs": [],
   "source": [
    "#!/usr/bin/env python\n",
    "# coding: utf-8\n",
    "\n",
    "# In[ ]:\n",
    "\n",
    "\n",
    "@app.route('/predict', methods=['GET', 'POST'])\n",
    "def upload():\n",
    "    if request.method == \"POST\":\n",
    "        f = request.files[\"image\"]\n",
    "        filepath = secure_filename(f.filename)\n",
    "        f.save(os.path.join(app.config['UPLOAD_FOLDER'], filepath))\n",
    "\n",
    "        upload_img = os.path.join(UPLOAD_FOLDER, filepath)\n",
    "        img = Image.open(upload_img).convert(\"L\")  # convert image to monochrome\n",
    "        img = img.resize((28, 28))  # resizing of input image\n",
    "\n",
    "        im2arr = np.array(img)  # converting to image\n",
    "        im2arr = im2arr.reshape(1, 28, 28, 1)  # reshaping according to our requirement\n",
    "\n",
    "        pred = model.predict(im2arr)\n",
    "\n",
    "        num = np.argmax(pred, axis=1)  # printing our Labels\n",
    "\n",
    "        return render_template('predict.html', num=str(num[0]))\n",
    "\n",
    "\n",
    "if _name_ == '_main_':\n",
    "    app.run(debug=True, threaded=False)"
   ]
  }
 ],
 "metadata": {
  "language_info": {
   "name": "python"
  },
  "orig_nbformat": 4
 },
 "nbformat": 4,
 "nbformat_minor": 2
}
